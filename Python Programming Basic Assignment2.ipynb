{
 "cells": [
  {
   "cell_type": "markdown",
   "id": "82b24ce3",
   "metadata": {},
   "source": [
    "1. Write a Python program to convert kilometers to miles?"
   ]
  },
  {
   "cell_type": "code",
   "execution_count": 21,
   "id": "5c31ae8e",
   "metadata": {},
   "outputs": [],
   "source": [
    "def km2miles():\n",
    "    try:\n",
    "        a = int(input(\"Enter distance in Km: \"))\n",
    "        return str(round(a*0.621371,3))+ \" miles\"\n",
    "    except Exception as e:\n",
    "        print(e)"
   ]
  },
  {
   "cell_type": "code",
   "execution_count": 26,
   "id": "bca18afd",
   "metadata": {},
   "outputs": [
    {
     "name": "stdout",
     "output_type": "stream",
     "text": [
      "Enter distance in Km: 45\n"
     ]
    },
    {
     "data": {
      "text/plain": [
       "'27.962 miles'"
      ]
     },
     "execution_count": 26,
     "metadata": {},
     "output_type": "execute_result"
    }
   ],
   "source": [
    "km2miles()"
   ]
  },
  {
   "cell_type": "markdown",
   "id": "0c4abbc0",
   "metadata": {},
   "source": [
    "2. Write a Python program to convert Celsius to Fahrenheit?"
   ]
  },
  {
   "cell_type": "code",
   "execution_count": 27,
   "id": "d4e427ab",
   "metadata": {},
   "outputs": [],
   "source": [
    "def celcius2Fahrenheit():\n",
    "    try:\n",
    "        a = int(input(\"Enter temperature in celcius: \"))\n",
    "        return str(round((a*9/5)+32,3))+ \" Fahrenheit\"\n",
    "    except Exception as e:\n",
    "        print(e)"
   ]
  },
  {
   "cell_type": "code",
   "execution_count": 29,
   "id": "4bb927c6",
   "metadata": {},
   "outputs": [
    {
     "name": "stdout",
     "output_type": "stream",
     "text": [
      "Enter temperature in celcius: 37\n"
     ]
    },
    {
     "data": {
      "text/plain": [
       "'98.6 Fahrenheit'"
      ]
     },
     "execution_count": 29,
     "metadata": {},
     "output_type": "execute_result"
    }
   ],
   "source": [
    "celcius2Fahrenheit()"
   ]
  },
  {
   "cell_type": "markdown",
   "id": "81d4cead",
   "metadata": {},
   "source": [
    "3. Write a Python program to display calendar?"
   ]
  },
  {
   "cell_type": "code",
   "execution_count": 36,
   "id": "c38187c7",
   "metadata": {},
   "outputs": [],
   "source": [
    "def showCalender():\n",
    "    import calendar\n",
    "    try:\n",
    "        yy = int(input(\"Enter year: \"))\n",
    "        mm = int(input(\"Enter month in integer: \"))\n",
    "        print(calendar.month(yy, mm))\n",
    "    except Exception as e:\n",
    "        print(e)"
   ]
  },
  {
   "cell_type": "code",
   "execution_count": 38,
   "id": "4aad5448",
   "metadata": {},
   "outputs": [
    {
     "name": "stdout",
     "output_type": "stream",
     "text": [
      "Enter year: 2022\n",
      "Enter month in integer: 1\n",
      "    January 2022\n",
      "Mo Tu We Th Fr Sa Su\n",
      "                1  2\n",
      " 3  4  5  6  7  8  9\n",
      "10 11 12 13 14 15 16\n",
      "17 18 19 20 21 22 23\n",
      "24 25 26 27 28 29 30\n",
      "31\n",
      "\n"
     ]
    }
   ],
   "source": [
    "showCalender()"
   ]
  },
  {
   "cell_type": "markdown",
   "id": "89cf01ce",
   "metadata": {},
   "source": [
    "4. Write a Python program to solve quadratic equation?"
   ]
  },
  {
   "cell_type": "code",
   "execution_count": 50,
   "id": "230b2c17",
   "metadata": {},
   "outputs": [],
   "source": [
    "# y = ax^2+bx+c\n",
    "\n",
    "def Roots():\n",
    "    import math\n",
    "    a = int(input(\"Enter the value a: \"))\n",
    "    b = int(input(\"Enter the value b: \"))\n",
    "    c = int(input(\"Enter the value c: \"))\n",
    "    d = b*b-4*a*c\n",
    "    if d>=0:\n",
    "        d1 = round(((-b+math.sqrt(d))/(2*a)),2)\n",
    "        d2 = round(((-b-math.sqrt(d))/(2*a)),2)\n",
    "    else:\n",
    "        d1 = complex(round(-b/(2*a),2),round(math.sqrt(-d)/(2*a),2))\n",
    "        d2 = complex(round(-b/(2*a),2),round(-math.sqrt(-d)/(2*a),2))\n",
    "    return d1,d2"
   ]
  },
  {
   "cell_type": "code",
   "execution_count": 51,
   "id": "1466e9bc",
   "metadata": {},
   "outputs": [
    {
     "name": "stdout",
     "output_type": "stream",
     "text": [
      "Enter the value a: 7\n",
      "Enter the value b: 5\n",
      "Enter the value c: 3\n"
     ]
    },
    {
     "data": {
      "text/plain": [
       "((-0.36+0.55j), (-0.36-0.55j))"
      ]
     },
     "execution_count": 51,
     "metadata": {},
     "output_type": "execute_result"
    }
   ],
   "source": [
    "Roots()"
   ]
  },
  {
   "cell_type": "markdown",
   "id": "21007bed",
   "metadata": {},
   "source": [
    "5. Write a Python program to swap two variables without temp variable?"
   ]
  },
  {
   "cell_type": "code",
   "execution_count": 18,
   "id": "456302ad",
   "metadata": {},
   "outputs": [],
   "source": [
    "def swapval():\n",
    "    b = input(\"Enter your 1st value a: \")\n",
    "    a = input(\"Enter your 2nd value b: \")\n",
    "    print(\"a =\",a,\" b=\",b)"
   ]
  },
  {
   "cell_type": "code",
   "execution_count": 19,
   "id": "536ee687",
   "metadata": {},
   "outputs": [
    {
     "name": "stdout",
     "output_type": "stream",
     "text": [
      "Enter your 1st value a: 5\n",
      "Enter your 2nd value b: 9\n",
      "a = 9  b= 5\n"
     ]
    }
   ],
   "source": [
    "swapval()"
   ]
  },
  {
   "cell_type": "code",
   "execution_count": null,
   "id": "bc316f99",
   "metadata": {},
   "outputs": [],
   "source": []
  }
 ],
 "metadata": {
  "kernelspec": {
   "display_name": "Python 3 (ipykernel)",
   "language": "python",
   "name": "python3"
  },
  "language_info": {
   "codemirror_mode": {
    "name": "ipython",
    "version": 3
   },
   "file_extension": ".py",
   "mimetype": "text/x-python",
   "name": "python",
   "nbconvert_exporter": "python",
   "pygments_lexer": "ipython3",
   "version": "3.9.7"
  }
 },
 "nbformat": 4,
 "nbformat_minor": 5
}
