{
 "cells": [
  {
   "cell_type": "markdown",
   "id": "1685f873",
   "metadata": {},
   "source": [
    "1. Write a Python Program to Find the Factorial of a Number?"
   ]
  },
  {
   "cell_type": "code",
   "execution_count": 23,
   "id": "4078cff0",
   "metadata": {},
   "outputs": [],
   "source": [
    "def factorial(a):\n",
    "    try:\n",
    "        b = 1\n",
    "        for i in range(1,a+1):\n",
    "            b = b*i\n",
    "        return b\n",
    "    except Exception as e:\n",
    "        print(e)"
   ]
  },
  {
   "cell_type": "code",
   "execution_count": 24,
   "id": "07c9fff5",
   "metadata": {},
   "outputs": [
    {
     "data": {
      "text/plain": [
       "362880"
      ]
     },
     "execution_count": 24,
     "metadata": {},
     "output_type": "execute_result"
    }
   ],
   "source": [
    "factorial(9)"
   ]
  },
  {
   "cell_type": "markdown",
   "id": "f0cfd787",
   "metadata": {},
   "source": [
    "2. Write a Python Program to Display the multiplication Table?"
   ]
  },
  {
   "cell_type": "code",
   "execution_count": 25,
   "id": "993629c0",
   "metadata": {},
   "outputs": [],
   "source": [
    "def table(a):\n",
    "    try:\n",
    "        for i in range(1,11):\n",
    "            b = i*a \n",
    "            print(a,\"x\",i,\"=\",b)\n",
    "    except Exception as e:\n",
    "        print(e)"
   ]
  },
  {
   "cell_type": "code",
   "execution_count": 26,
   "id": "682235f6",
   "metadata": {},
   "outputs": [
    {
     "name": "stdout",
     "output_type": "stream",
     "text": [
      "5 x 1 = 5\n",
      "5 x 2 = 10\n",
      "5 x 3 = 15\n",
      "5 x 4 = 20\n",
      "5 x 5 = 25\n",
      "5 x 6 = 30\n",
      "5 x 7 = 35\n",
      "5 x 8 = 40\n",
      "5 x 9 = 45\n",
      "5 x 10 = 50\n"
     ]
    }
   ],
   "source": [
    "table(5)"
   ]
  },
  {
   "cell_type": "markdown",
   "id": "94f531c7",
   "metadata": {},
   "source": [
    "3. Write a Python Program to Print the Fibonacci sequence?"
   ]
  },
  {
   "cell_type": "code",
   "execution_count": 39,
   "id": "73efaf9e",
   "metadata": {},
   "outputs": [],
   "source": [
    "def fibonacci(c):\n",
    "    try:\n",
    "        a = 0\n",
    "        b = 1\n",
    "        l = [b]\n",
    "        for i in range(c-1):\n",
    "            c = a+b\n",
    "            a = b\n",
    "            b = c\n",
    "            l.append(c)\n",
    "        return l\n",
    "    except Exception as e:\n",
    "        print(e)"
   ]
  },
  {
   "cell_type": "code",
   "execution_count": 41,
   "id": "eebf9bbf",
   "metadata": {},
   "outputs": [
    {
     "data": {
      "text/plain": [
       "[1, 1, 2, 3, 5, 8, 13, 21]"
      ]
     },
     "execution_count": 41,
     "metadata": {},
     "output_type": "execute_result"
    }
   ],
   "source": [
    "fibonacci(8)"
   ]
  },
  {
   "cell_type": "markdown",
   "id": "d952d065",
   "metadata": {},
   "source": [
    "4. Write a Python Program to Check Armstrong Number?"
   ]
  },
  {
   "cell_type": "code",
   "execution_count": 98,
   "id": "417b3e0a",
   "metadata": {},
   "outputs": [],
   "source": [
    "def is_armstrong(a):\n",
    "    try:\n",
    "        d = 0\n",
    "        b = str(a)\n",
    "        c = len(str(a))\n",
    "        if c<2:\n",
    "             c = 3\n",
    "        for i in range(len(b)):\n",
    "            d = d + pow(int(b[i]),c)\n",
    "        if d == a:\n",
    "            return True\n",
    "        else:\n",
    "            return False\n",
    "    except Exception as e:\n",
    "        print(e)"
   ]
  },
  {
   "cell_type": "code",
   "execution_count": 104,
   "id": "2eb20a20",
   "metadata": {},
   "outputs": [
    {
     "data": {
      "text/plain": [
       "True"
      ]
     },
     "execution_count": 104,
     "metadata": {},
     "output_type": "execute_result"
    }
   ],
   "source": [
    "is_armstrong(153)"
   ]
  },
  {
   "cell_type": "code",
   "execution_count": 80,
   "id": "b9c813cb",
   "metadata": {},
   "outputs": [
    {
     "data": {
      "text/plain": [
       "False"
      ]
     },
     "execution_count": 80,
     "metadata": {},
     "output_type": "execute_result"
    }
   ],
   "source": [
    "is_armstrong(3)"
   ]
  },
  {
   "cell_type": "markdown",
   "id": "429370d5",
   "metadata": {},
   "source": [
    "5. Write a Python Program to Find Armstrong Number in an Interval?"
   ]
  },
  {
   "cell_type": "code",
   "execution_count": 100,
   "id": "342db555",
   "metadata": {},
   "outputs": [],
   "source": [
    "def armstrong_in_interval():\n",
    "    a = int(input(\"enter starting no: \"))\n",
    "    b = int(input(\"enter ending no: \"))\n",
    "    c = []\n",
    "    for i in range(a,b+1):\n",
    "        if is_armstrong(i):\n",
    "            c.append(i)\n",
    "    return c"
   ]
  },
  {
   "cell_type": "code",
   "execution_count": 103,
   "id": "53019453",
   "metadata": {},
   "outputs": [
    {
     "name": "stdout",
     "output_type": "stream",
     "text": [
      "enter starting no: 0\n",
      "enter ending no: 100000\n"
     ]
    },
    {
     "data": {
      "text/plain": [
       "[0, 1, 153, 370, 371, 407, 1634, 8208, 9474, 54748, 92727, 93084]"
      ]
     },
     "execution_count": 103,
     "metadata": {},
     "output_type": "execute_result"
    }
   ],
   "source": [
    "armstrong_in_interval()"
   ]
  },
  {
   "cell_type": "markdown",
   "id": "025fca2f",
   "metadata": {},
   "source": [
    "6. Write a Python Program to Find the Sum of Natural Numbers?"
   ]
  },
  {
   "cell_type": "code",
   "execution_count": 107,
   "id": "798fbaa1",
   "metadata": {},
   "outputs": [],
   "source": [
    "def sum_all_nos():\n",
    "    try:\n",
    "        a = int(input(\"enter starting no: \"))\n",
    "        b = int(input(\"enter ending no: \"))\n",
    "        l = list(range(a,b+1))\n",
    "        return sum(l)\n",
    "    except Exception as e:\n",
    "        print(e)"
   ]
  },
  {
   "cell_type": "code",
   "execution_count": 108,
   "id": "a8e418fa",
   "metadata": {},
   "outputs": [
    {
     "name": "stdout",
     "output_type": "stream",
     "text": [
      "enter starting no: 0\n",
      "enter ending no: 5\n"
     ]
    },
    {
     "data": {
      "text/plain": [
       "15"
      ]
     },
     "execution_count": 108,
     "metadata": {},
     "output_type": "execute_result"
    }
   ],
   "source": [
    "sum_all_nos()"
   ]
  },
  {
   "cell_type": "code",
   "execution_count": null,
   "id": "72135e8d",
   "metadata": {},
   "outputs": [],
   "source": []
  }
 ],
 "metadata": {
  "kernelspec": {
   "display_name": "Python 3 (ipykernel)",
   "language": "python",
   "name": "python3"
  },
  "language_info": {
   "codemirror_mode": {
    "name": "ipython",
    "version": 3
   },
   "file_extension": ".py",
   "mimetype": "text/x-python",
   "name": "python",
   "nbconvert_exporter": "python",
   "pygments_lexer": "ipython3",
   "version": "3.9.7"
  }
 },
 "nbformat": 4,
 "nbformat_minor": 5
}
