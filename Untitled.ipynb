{
 "cells": [
  {
   "cell_type": "markdown",
   "id": "90f4f120",
   "metadata": {},
   "source": [
    "1. Write a Python Program to Find LCM?"
   ]
  },
  {
   "cell_type": "code",
   "execution_count": 103,
   "id": "e5bc9c26",
   "metadata": {},
   "outputs": [],
   "source": [
    "def hcf(x,y):\n",
    "    try:\n",
    "        if x > y:\n",
    "            smaller = y\n",
    "        else:\n",
    "            smaller = x\n",
    "        for i in range(1, smaller+1):\n",
    "            if((x % i == 0) and (y % i == 0)):\n",
    "                hcf = i \n",
    "        return hcf\n",
    "    except Exception as e:\n",
    "        print(e)"
   ]
  },
  {
   "cell_type": "code",
   "execution_count": 106,
   "id": "9a87cc71",
   "metadata": {},
   "outputs": [],
   "source": [
    "def lcm(x,y):\n",
    "    try:    \n",
    "        p = x*y\n",
    "        lcm = p/hcf(x,y)\n",
    "        return lcm\n",
    "    except Exception as e:\n",
    "        print(e)"
   ]
  },
  {
   "cell_type": "code",
   "execution_count": 107,
   "id": "ef5b32d7",
   "metadata": {},
   "outputs": [
    {
     "data": {
      "text/plain": [
       "72.0"
      ]
     },
     "execution_count": 107,
     "metadata": {},
     "output_type": "execute_result"
    }
   ],
   "source": [
    "lcm(24,18)"
   ]
  },
  {
   "cell_type": "markdown",
   "id": "995aefb2",
   "metadata": {},
   "source": [
    "2. Write a Python Program to Find HCF?"
   ]
  },
  {
   "cell_type": "code",
   "execution_count": 108,
   "id": "0699e0a1",
   "metadata": {},
   "outputs": [
    {
     "data": {
      "text/plain": [
       "6"
      ]
     },
     "execution_count": 108,
     "metadata": {},
     "output_type": "execute_result"
    }
   ],
   "source": [
    "hcf(24,18)"
   ]
  },
  {
   "cell_type": "code",
   "execution_count": 105,
   "id": "08a7ca0f",
   "metadata": {},
   "outputs": [
    {
     "data": {
      "text/plain": [
       "5"
      ]
     },
     "execution_count": 105,
     "metadata": {},
     "output_type": "execute_result"
    }
   ],
   "source": [
    "hcf(5,10)"
   ]
  },
  {
   "cell_type": "markdown",
   "id": "39d29c56",
   "metadata": {},
   "source": [
    "3. Write a Python Program to Convert Decimal to Binary, Octal and Hexadecimal?"
   ]
  },
  {
   "cell_type": "code",
   "execution_count": 82,
   "id": "5a6ff5ae",
   "metadata": {},
   "outputs": [],
   "source": [
    "class decimal_to:\n",
    "    def __init__(self,a):\n",
    "        if type(a)==int:\n",
    "            self.a =a\n",
    "        else:\n",
    "            raise Exception(\"only integer\")\n",
    "            \n",
    "    def binary(self):\n",
    "        return bin(self.a).replace(\"0b\", \"\")\n",
    "    \n",
    "    def octal(self):\n",
    "        return oct(self.a).replace(\"0o\", \"\")\n",
    "    \n",
    "    def hexadecimal(self):\n",
    "        return hex(self.a).replace(\"0x\", \"\")"
   ]
  },
  {
   "cell_type": "code",
   "execution_count": 97,
   "id": "d83229eb",
   "metadata": {},
   "outputs": [],
   "source": [
    "a = decimal_to(175)"
   ]
  },
  {
   "cell_type": "code",
   "execution_count": 98,
   "id": "62465477",
   "metadata": {},
   "outputs": [
    {
     "data": {
      "text/plain": [
       "'10101111'"
      ]
     },
     "execution_count": 98,
     "metadata": {},
     "output_type": "execute_result"
    }
   ],
   "source": [
    "a.binary()"
   ]
  },
  {
   "cell_type": "code",
   "execution_count": 99,
   "id": "447f8132",
   "metadata": {},
   "outputs": [
    {
     "data": {
      "text/plain": [
       "'257'"
      ]
     },
     "execution_count": 99,
     "metadata": {},
     "output_type": "execute_result"
    }
   ],
   "source": [
    "a.octal()"
   ]
  },
  {
   "cell_type": "code",
   "execution_count": 100,
   "id": "080ebdf3",
   "metadata": {},
   "outputs": [
    {
     "data": {
      "text/plain": [
       "'af'"
      ]
     },
     "execution_count": 100,
     "metadata": {},
     "output_type": "execute_result"
    }
   ],
   "source": [
    "a.hexadecimal()"
   ]
  },
  {
   "cell_type": "markdown",
   "id": "c228b79f",
   "metadata": {},
   "source": [
    "4. Write a Python Program To Find ASCII value of a character?"
   ]
  },
  {
   "cell_type": "code",
   "execution_count": 70,
   "id": "ebd52bd5",
   "metadata": {},
   "outputs": [],
   "source": [
    "def MyAscii():\n",
    "    a = str(input(\"Enter your charaacter: \"))\n",
    "    return ord(a)"
   ]
  },
  {
   "cell_type": "code",
   "execution_count": 73,
   "id": "9c20c371",
   "metadata": {},
   "outputs": [
    {
     "name": "stdout",
     "output_type": "stream",
     "text": [
      "Enter your charaacter: O\n"
     ]
    },
    {
     "data": {
      "text/plain": [
       "79"
      ]
     },
     "execution_count": 73,
     "metadata": {},
     "output_type": "execute_result"
    }
   ],
   "source": [
    "MyAscii()"
   ]
  },
  {
   "cell_type": "markdown",
   "id": "cfe64e78",
   "metadata": {},
   "source": [
    "5. Write a Python Program to Make a Simple Calculator with 4 basic mathematical operations?"
   ]
  },
  {
   "cell_type": "code",
   "execution_count": 57,
   "id": "98b83b63",
   "metadata": {},
   "outputs": [],
   "source": [
    "class myCalculator:\n",
    "    def mySum(self,*args):\n",
    "        try:\n",
    "            \"\"\"Enter nos to get the sum of all nos\"\"\"\n",
    "            return \"sum = \"+str(sum(list(args)))\n",
    "        except Exception as e:\n",
    "            print(e)\n",
    "    def mySubs(self):\n",
    "        try:\n",
    "            a = int(input((\"Enter 1st no: \")))\n",
    "            b = int(input((\"Enter 2nd no: \")))\n",
    "            return a-b\n",
    "        except Exception as e:\n",
    "            print(e)\n",
    "    def myMultiplication(self,*args):\n",
    "        try:\n",
    "            \"\"\"Enter nos to get the product of all nos\"\"\"\n",
    "            l = list(args)\n",
    "            p=1\n",
    "            for i in range(len(l)):\n",
    "                p = p*l[i]\n",
    "            return p\n",
    "        except Exception as e:\n",
    "            print(e)\n",
    "\n",
    "    def mydiv(self):\n",
    "        try:\n",
    "            a = int(input((\"Enter 1st no: \")))\n",
    "            b = int(input((\"Enter 2nd no: \")))\n",
    "            return a/b\n",
    "        except Exception as e:\n",
    "            print(e)"
   ]
  },
  {
   "cell_type": "code",
   "execution_count": 58,
   "id": "38aeb934",
   "metadata": {},
   "outputs": [],
   "source": [
    "a = myCalculator()"
   ]
  },
  {
   "cell_type": "code",
   "execution_count": 59,
   "id": "07d6a937",
   "metadata": {},
   "outputs": [
    {
     "data": {
      "text/plain": [
       "'sum = 25'"
      ]
     },
     "execution_count": 59,
     "metadata": {},
     "output_type": "execute_result"
    }
   ],
   "source": [
    "a.mySum(8,9,8)"
   ]
  },
  {
   "cell_type": "code",
   "execution_count": 60,
   "id": "f78ccacb",
   "metadata": {},
   "outputs": [
    {
     "data": {
      "text/plain": [
       "160"
      ]
     },
     "execution_count": 60,
     "metadata": {},
     "output_type": "execute_result"
    }
   ],
   "source": [
    "a.myMultiplication(4,5,8)"
   ]
  },
  {
   "cell_type": "code",
   "execution_count": 62,
   "id": "47b080be",
   "metadata": {},
   "outputs": [
    {
     "name": "stdout",
     "output_type": "stream",
     "text": [
      "Enter 1st no: 15\n",
      "Enter 2nd no: 6\n"
     ]
    },
    {
     "data": {
      "text/plain": [
       "9"
      ]
     },
     "execution_count": 62,
     "metadata": {},
     "output_type": "execute_result"
    }
   ],
   "source": [
    "a.mySubs()"
   ]
  },
  {
   "cell_type": "code",
   "execution_count": 63,
   "id": "ca039d8b",
   "metadata": {},
   "outputs": [
    {
     "name": "stdout",
     "output_type": "stream",
     "text": [
      "Enter 1st no: 15\n",
      "Enter 2nd no: 6\n"
     ]
    },
    {
     "data": {
      "text/plain": [
       "2.5"
      ]
     },
     "execution_count": 63,
     "metadata": {},
     "output_type": "execute_result"
    }
   ],
   "source": [
    "a.mydiv()"
   ]
  }
 ],
 "metadata": {
  "kernelspec": {
   "display_name": "Python 3 (ipykernel)",
   "language": "python",
   "name": "python3"
  },
  "language_info": {
   "codemirror_mode": {
    "name": "ipython",
    "version": 3
   },
   "file_extension": ".py",
   "mimetype": "text/x-python",
   "name": "python",
   "nbconvert_exporter": "python",
   "pygments_lexer": "ipython3",
   "version": "3.9.7"
  }
 },
 "nbformat": 4,
 "nbformat_minor": 5
}
