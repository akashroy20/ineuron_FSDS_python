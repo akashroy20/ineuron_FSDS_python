{
  "nbformat": 4,
  "nbformat_minor": 0,
  "metadata": {
    "colab": {
      "name": "python_prog_assignment_1.ipynb",
      "provenance": [],
      "collapsed_sections": [],
      "authorship_tag": "ABX9TyORm19YwubFs3I0PZA6HcOM"
    },
    "kernelspec": {
      "name": "python3",
      "display_name": "Python 3"
    },
    "language_info": {
      "name": "python"
    }
  },
  "cells": [
    {
      "cell_type": "markdown",
      "metadata": {
        "id": "HxT7Iw3g8XWq"
      },
      "source": [
        "1. Write a Python program to print &quot;Hello Python&quot;?"
      ]
    },
    {
      "cell_type": "code",
      "metadata": {
        "colab": {
          "base_uri": "https://localhost:8080/"
        },
        "id": "v7aadouT8aI6",
        "outputId": "620f8f7b-7daa-4df3-bb0b-0e0d08f8ac8f"
      },
      "source": [
        "print('\"Hello Python\"')"
      ],
      "execution_count": 4,
      "outputs": [
        {
          "output_type": "stream",
          "name": "stdout",
          "text": [
            "\"Hello Python\"\n"
          ]
        }
      ]
    },
    {
      "cell_type": "markdown",
      "metadata": {
        "id": "l9_xionH-hZT"
      },
      "source": [
        "2. Write a Python program to do arithmetical operations addition and division.?"
      ]
    },
    {
      "cell_type": "code",
      "metadata": {
        "colab": {
          "base_uri": "https://localhost:8080/"
        },
        "id": "NXaahmWf8gNa",
        "outputId": "15be23d9-495e-4ba6-f91a-359ea0892090"
      },
      "source": [
        "a,b = 10,2\n",
        "print('addition =', a+b) \n",
        "print('division =', a/b)"
      ],
      "execution_count": 18,
      "outputs": [
        {
          "output_type": "stream",
          "name": "stdout",
          "text": [
            "addition = 12\n",
            "division = 5.0\n"
          ]
        }
      ]
    },
    {
      "cell_type": "markdown",
      "metadata": {
        "id": "sXIqDUncDS_r"
      },
      "source": [
        "3. Write a Python program to find the area of a triangle?"
      ]
    },
    {
      "cell_type": "code",
      "metadata": {
        "id": "Sh7JpVCH-iby"
      },
      "source": [
        "import math\n",
        "def TriangleArea():\n",
        "  l=[]\n",
        "  a = float(input('Enter 1st side :'))\n",
        "  l.append(a) \n",
        "  b = float(input('Enter 2nd side :'))\n",
        "  l.append(b)\n",
        "  c = float(input('Enter 3rd side :'))\n",
        "  l.append(c)\n",
        "  l.sort()\n",
        "  if l[-1] < (sum(l[:2])):\n",
        "    s = (a+b+c)/2\n",
        "    area = math.sqrt(s*abs(s-a)*abs(s-b)*abs(s-c))\n",
        "    return round(area,3)\n",
        "  else:\n",
        "    print(\"Please enter valid sides\") "
      ],
      "execution_count": 89,
      "outputs": []
    },
    {
      "cell_type": "code",
      "metadata": {
        "colab": {
          "base_uri": "https://localhost:8080/"
        },
        "id": "ZkLbiiCCE0fz",
        "outputId": "41b56ec2-b6eb-4f91-cee0-c0c3476b3ce4"
      },
      "source": [
        "TriangleArea()"
      ],
      "execution_count": 90,
      "outputs": [
        {
          "name": "stdout",
          "output_type": "stream",
          "text": [
            "Enter 1st side :5\n",
            "Enter 2nd side :5\n",
            "Enter 3rd side :5\n"
          ]
        },
        {
          "output_type": "execute_result",
          "data": {
            "text/plain": [
              "10.825"
            ]
          },
          "metadata": {},
          "execution_count": 90
        }
      ]
    },
    {
      "cell_type": "markdown",
      "metadata": {
        "id": "RfVxUOnIVtmC"
      },
      "source": [
        "4. Write a Python program to swap two variables?"
      ]
    },
    {
      "cell_type": "code",
      "metadata": {
        "colab": {
          "base_uri": "https://localhost:8080/"
        },
        "id": "9LRRQJ9OVoTD",
        "outputId": "a3daf766-5c94-4ad1-f8f0-5fd51bfcff9c"
      },
      "source": [
        "x = input('x :')\n",
        "y = input('y :')\n",
        "t = x\n",
        "print('x = ',y)\n",
        "print('y =', t)"
      ],
      "execution_count": 85,
      "outputs": [
        {
          "output_type": "stream",
          "name": "stdout",
          "text": [
            "x :10'\n",
            "y :5\n",
            "x =  5\n",
            "y = 10'\n"
          ]
        }
      ]
    },
    {
      "cell_type": "markdown",
      "metadata": {
        "id": "pV6UQGMsXGE8"
      },
      "source": [
        "5. Write a Python program to generate a random number?"
      ]
    },
    {
      "cell_type": "code",
      "metadata": {
        "colab": {
          "base_uri": "https://localhost:8080/"
        },
        "id": "ZUyNRJCnVoVb",
        "outputId": "cf96fee3-7290-4911-82ef-1d0e0254dc2a"
      },
      "source": [
        "import random\n",
        "\n",
        "print(random.randint(0,999))"
      ],
      "execution_count": 88,
      "outputs": [
        {
          "output_type": "stream",
          "name": "stdout",
          "text": [
            "808\n"
          ]
        }
      ]
    }
  ]
}