{
 "cells": [
  {
   "cell_type": "markdown",
   "id": "2b7cc0bf",
   "metadata": {},
   "source": [
    "1. Write a Python program to find sum of elements in list?"
   ]
  },
  {
   "cell_type": "code",
   "execution_count": 1,
   "id": "893855db",
   "metadata": {},
   "outputs": [],
   "source": [
    "def List_sum(a):\n",
    "    b = 0\n",
    "    for i in range(len(a)):\n",
    "        b = b+a[i]\n",
    "    return b"
   ]
  },
  {
   "cell_type": "code",
   "execution_count": 10,
   "id": "0053dd43",
   "metadata": {},
   "outputs": [
    {
     "data": {
      "text/plain": [
       "16"
      ]
     },
     "execution_count": 10,
     "metadata": {},
     "output_type": "execute_result"
    }
   ],
   "source": [
    "l = [5,9,2]\n",
    "List_sum(l)"
   ]
  },
  {
   "cell_type": "markdown",
   "id": "6eb9b1d7",
   "metadata": {},
   "source": [
    "2. Write a Python program to Multiply all numbers in the list?"
   ]
  },
  {
   "cell_type": "code",
   "execution_count": 6,
   "id": "f896bc16",
   "metadata": {},
   "outputs": [],
   "source": [
    "def List_product(a):\n",
    "    b = 1\n",
    "    for i in range(len(a)):\n",
    "        b = b*a[i]\n",
    "    return b"
   ]
  },
  {
   "cell_type": "code",
   "execution_count": 11,
   "id": "97a905b8",
   "metadata": {},
   "outputs": [
    {
     "data": {
      "text/plain": [
       "90"
      ]
     },
     "execution_count": 11,
     "metadata": {},
     "output_type": "execute_result"
    }
   ],
   "source": [
    "l = [5,9,2]\n",
    "List_product(l)"
   ]
  },
  {
   "cell_type": "markdown",
   "id": "cfd85685",
   "metadata": {},
   "source": [
    "3. Write a Python program to find smallest number in a list?"
   ]
  },
  {
   "cell_type": "code",
   "execution_count": 13,
   "id": "ae96a0c3",
   "metadata": {},
   "outputs": [],
   "source": [
    "def smallest_in_list(a):\n",
    "    return sorted(a)[0]       "
   ]
  },
  {
   "cell_type": "code",
   "execution_count": 14,
   "id": "46fb2d6a",
   "metadata": {},
   "outputs": [
    {
     "data": {
      "text/plain": [
       "2"
      ]
     },
     "execution_count": 14,
     "metadata": {},
     "output_type": "execute_result"
    }
   ],
   "source": [
    "l = [5,9,2]\n",
    "smallest_in_list(l)"
   ]
  },
  {
   "cell_type": "markdown",
   "id": "30ad2f22",
   "metadata": {},
   "source": [
    "4. Write a Python program to find largest number in a list?"
   ]
  },
  {
   "cell_type": "code",
   "execution_count": 15,
   "id": "6046458f",
   "metadata": {},
   "outputs": [],
   "source": [
    "def largest_in_list(a):\n",
    "    return sorted(a)[-1]       "
   ]
  },
  {
   "cell_type": "code",
   "execution_count": 16,
   "id": "2f2f68aa",
   "metadata": {},
   "outputs": [
    {
     "data": {
      "text/plain": [
       "9"
      ]
     },
     "execution_count": 16,
     "metadata": {},
     "output_type": "execute_result"
    }
   ],
   "source": [
    "l = [5,9,2]\n",
    "largest_in_list(l)"
   ]
  },
  {
   "cell_type": "markdown",
   "id": "4d73ff7f",
   "metadata": {},
   "source": [
    "5. Write a Python program to find second largest number in a list?"
   ]
  },
  {
   "cell_type": "code",
   "execution_count": 17,
   "id": "34b41d78",
   "metadata": {},
   "outputs": [],
   "source": [
    "def second_largest_in_list(a):\n",
    "    return sorted(a)[-2]   "
   ]
  },
  {
   "cell_type": "code",
   "execution_count": 18,
   "id": "f5bf7ff8",
   "metadata": {},
   "outputs": [
    {
     "data": {
      "text/plain": [
       "5"
      ]
     },
     "execution_count": 18,
     "metadata": {},
     "output_type": "execute_result"
    }
   ],
   "source": [
    "l = [5,9,2]\n",
    "second_largest_in_list(l)"
   ]
  },
  {
   "cell_type": "markdown",
   "id": "5ec4e1db",
   "metadata": {},
   "source": [
    "6. Write a Python program to find N largest elements from a list?"
   ]
  },
  {
   "cell_type": "code",
   "execution_count": 19,
   "id": "0c5e76dd",
   "metadata": {},
   "outputs": [],
   "source": [
    "def N_largest_in_list(a):\n",
    "    n = int(input(\"Enter n: \"))\n",
    "    return sorted(a)[-n]  "
   ]
  },
  {
   "cell_type": "code",
   "execution_count": 20,
   "id": "7ff394bc",
   "metadata": {},
   "outputs": [
    {
     "data": {
      "text/plain": [
       "[1, 2, 3, 4, 5, 6, 7, 8, 9, 10, 11, 12, 13, 14, 15, 16, 17, 18, 19]"
      ]
     },
     "execution_count": 20,
     "metadata": {},
     "output_type": "execute_result"
    }
   ],
   "source": [
    "l = list(range(1,20))\n",
    "l"
   ]
  },
  {
   "cell_type": "code",
   "execution_count": 24,
   "id": "f6be898b",
   "metadata": {},
   "outputs": [
    {
     "name": "stdout",
     "output_type": "stream",
     "text": [
      "Enter n: 5\n"
     ]
    },
    {
     "data": {
      "text/plain": [
       "15"
      ]
     },
     "execution_count": 24,
     "metadata": {},
     "output_type": "execute_result"
    }
   ],
   "source": [
    "N_largest_in_list(l)"
   ]
  },
  {
   "cell_type": "markdown",
   "id": "6acc6338",
   "metadata": {},
   "source": [
    "7. Write a Python program to print even numbers in a list?"
   ]
  },
  {
   "cell_type": "code",
   "execution_count": 25,
   "id": "74942438",
   "metadata": {},
   "outputs": [],
   "source": [
    "def Even_nos_from_list(a):\n",
    "    r = []\n",
    "    for i in range(len(a)):\n",
    "        if a[i]%2==0:\n",
    "            r.append(a[i])\n",
    "    return r"
   ]
  },
  {
   "cell_type": "code",
   "execution_count": 28,
   "id": "889f6177",
   "metadata": {},
   "outputs": [
    {
     "name": "stdout",
     "output_type": "stream",
     "text": [
      "[1, 2, 3, 4, 5, 6, 7, 8, 9, 10, 11, 12, 13, 14, 15, 16, 17, 18, 19]\n"
     ]
    },
    {
     "data": {
      "text/plain": [
       "[2, 4, 6, 8, 10, 12, 14, 16, 18]"
      ]
     },
     "execution_count": 28,
     "metadata": {},
     "output_type": "execute_result"
    }
   ],
   "source": [
    "print(l)\n",
    "Even_nos_from_list(l)"
   ]
  },
  {
   "cell_type": "markdown",
   "id": "2de250fd",
   "metadata": {},
   "source": [
    "8. Write a Python program to print odd numbers in a List?"
   ]
  },
  {
   "cell_type": "code",
   "execution_count": 29,
   "id": "2b16232b",
   "metadata": {},
   "outputs": [],
   "source": [
    "def Odd_nos_from_list(a):\n",
    "    r = []\n",
    "    for i in range(len(a)):\n",
    "        if a[i]%2!=0:\n",
    "            r.append(a[i])\n",
    "    return r"
   ]
  },
  {
   "cell_type": "code",
   "execution_count": 30,
   "id": "e34695f7",
   "metadata": {},
   "outputs": [
    {
     "name": "stdout",
     "output_type": "stream",
     "text": [
      "[1, 2, 3, 4, 5, 6, 7, 8, 9, 10, 11, 12, 13, 14, 15, 16, 17, 18, 19]\n"
     ]
    },
    {
     "data": {
      "text/plain": [
       "[1, 3, 5, 7, 9, 11, 13, 15, 17, 19]"
      ]
     },
     "execution_count": 30,
     "metadata": {},
     "output_type": "execute_result"
    }
   ],
   "source": [
    "print(l)\n",
    "Odd_nos_from_list(l)"
   ]
  },
  {
   "cell_type": "markdown",
   "id": "2b955702",
   "metadata": {},
   "source": [
    "9. Write a Python program to Remove empty List from List?"
   ]
  },
  {
   "cell_type": "code",
   "execution_count": 34,
   "id": "a415e02d",
   "metadata": {},
   "outputs": [],
   "source": [
    "def RELFL(a):\n",
    "    p =[]\n",
    "    for i in range(len(a)):\n",
    "        if type(a[i])==list:\n",
    "            if len(a[i]) ==0:\n",
    "                continue\n",
    "            else:\n",
    "                p.append(a[i])\n",
    "        else:\n",
    "            p.append(a[i])\n",
    "    return p\n",
    "        "
   ]
  },
  {
   "cell_type": "code",
   "execution_count": 37,
   "id": "9e4336fe",
   "metadata": {},
   "outputs": [],
   "source": [
    "l = [[],[1,2],8,\"s\",[],\"k\"]"
   ]
  },
  {
   "cell_type": "code",
   "execution_count": 38,
   "id": "9388c83c",
   "metadata": {},
   "outputs": [
    {
     "data": {
      "text/plain": [
       "[[1, 2], 8, 's', 'k']"
      ]
     },
     "execution_count": 38,
     "metadata": {},
     "output_type": "execute_result"
    }
   ],
   "source": [
    "RELFL(l)"
   ]
  },
  {
   "cell_type": "markdown",
   "id": "9ef83299",
   "metadata": {},
   "source": [
    "10. Write a Python program to Cloning or Copying a list?"
   ]
  },
  {
   "cell_type": "code",
   "execution_count": 51,
   "id": "35d53386",
   "metadata": {},
   "outputs": [],
   "source": [
    "def copy_list(l):\n",
    "    l1 = []\n",
    "    for i in range(len(l)):\n",
    "        l1.append(l[i])\n",
    "    return l1"
   ]
  },
  {
   "cell_type": "code",
   "execution_count": 55,
   "id": "e57f8428",
   "metadata": {},
   "outputs": [
    {
     "data": {
      "text/plain": [
       "[[], [1, 2], 8, 's', [], 'k']"
      ]
     },
     "execution_count": 55,
     "metadata": {},
     "output_type": "execute_result"
    }
   ],
   "source": [
    "li = copy_list(l)\n",
    "li"
   ]
  },
  {
   "cell_type": "markdown",
   "id": "4b88e9a3",
   "metadata": {},
   "source": [
    "11. Write a Python program to Count occurrences of an element in a list?"
   ]
  },
  {
   "cell_type": "code",
   "execution_count": 59,
   "id": "e4c01c80",
   "metadata": {},
   "outputs": [],
   "source": [
    "def oel(a):\n",
    "    l = input(\"Enter element: \")\n",
    "    s = 0\n",
    "    for i in range(len(a)):\n",
    "        if str(a[i]) == l:\n",
    "            s = s+1\n",
    "    return s"
   ]
  },
  {
   "cell_type": "code",
   "execution_count": 60,
   "id": "61644d4b",
   "metadata": {},
   "outputs": [
    {
     "name": "stdout",
     "output_type": "stream",
     "text": [
      "Enter element: 8\n"
     ]
    },
    {
     "data": {
      "text/plain": [
       "4"
      ]
     },
     "execution_count": 60,
     "metadata": {},
     "output_type": "execute_result"
    }
   ],
   "source": [
    "l = [1,5,8,8,8,8]\n",
    "oel(l)"
   ]
  }
 ],
 "metadata": {
  "kernelspec": {
   "display_name": "Python 3 (ipykernel)",
   "language": "python",
   "name": "python3"
  },
  "language_info": {
   "codemirror_mode": {
    "name": "ipython",
    "version": 3
   },
   "file_extension": ".py",
   "mimetype": "text/x-python",
   "name": "python",
   "nbconvert_exporter": "python",
   "pygments_lexer": "ipython3",
   "version": "3.9.7"
  }
 },
 "nbformat": 4,
 "nbformat_minor": 5
}
